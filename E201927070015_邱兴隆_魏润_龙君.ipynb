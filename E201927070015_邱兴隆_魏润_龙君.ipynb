{
 "cells": [
  {
   "cell_type": "code",
   "execution_count": 1,
   "metadata": {},
   "outputs": [],
   "source": [
    "# 1.Preparing Data\n",
    "\n",
    "import pandas as pd"
   ]
  },
  {
   "cell_type": "code",
   "execution_count": 2,
   "metadata": {},
   "outputs": [],
   "source": [
    "import numpy as np"
   ]
  },
  {
   "cell_type": "code",
   "execution_count": 3,
   "metadata": {},
   "outputs": [
    {
     "name": "stderr",
     "output_type": "stream",
     "text": [
      "/Users/duli/anaconda3/lib/python3.6/site-packages/IPython/core/interactiveshell.py:2728: DtypeWarning: Columns (9) have mixed types. Specify dtype option on import or set low_memory=False.\n",
      "  interactivity=interactivity, compiler=compiler, result=result)\n"
     ]
    }
   ],
   "source": [
    "sheet_1 = pd.read_csv(\"附件1.csv\",encoding='gb18030')"
   ]
  },
  {
   "cell_type": "code",
   "execution_count": 4,
   "metadata": {},
   "outputs": [
    {
     "name": "stderr",
     "output_type": "stream",
     "text": [
      "/Users/duli/anaconda3/lib/python3.6/site-packages/IPython/core/interactiveshell.py:2728: DtypeWarning: Columns (9) have mixed types. Specify dtype option on import or set low_memory=False.\n",
      "  interactivity=interactivity, compiler=compiler, result=result)\n"
     ]
    }
   ],
   "source": [
    "sheet_2 = pd.read_csv(\"附件2.csv\",encoding='gb18030')"
   ]
  },
  {
   "cell_type": "code",
   "execution_count": 6,
   "metadata": {},
   "outputs": [],
   "source": [
    "excel3 = pd.ExcelFile('附件3.xlsx')\n",
    "sheet_3 = pd.read_excel(excel3)\n",
    "\n",
    "excel4 = pd.ExcelFile('附件4.xlsx')\n",
    "sheet_4 = pd.read_excel(excel4)"
   ]
  },
  {
   "cell_type": "markdown",
   "metadata": {},
   "source": [
    "# Q1"
   ]
  },
  {
   "cell_type": "markdown",
   "metadata": {},
   "source": [
    "### Sheet 1"
   ]
  },
  {
   "cell_type": "code",
   "execution_count": 7,
   "metadata": {},
   "outputs": [],
   "source": [
    "import time"
   ]
  },
  {
   "cell_type": "code",
   "execution_count": 8,
   "metadata": {},
   "outputs": [],
   "source": [
    "sheet_1['create_dt'] = sheet_1['create_dt'].astype('datetime64')"
   ]
  },
  {
   "cell_type": "code",
   "execution_count": 9,
   "metadata": {},
   "outputs": [],
   "source": [
    "Q1_start_time = np.datetime64('2016-11-30')"
   ]
  },
  {
   "cell_type": "code",
   "execution_count": 10,
   "metadata": {},
   "outputs": [],
   "source": [
    "Q1_end_time = np.datetime64('2019-01-02')"
   ]
  },
  {
   "cell_type": "code",
   "execution_count": 11,
   "metadata": {},
   "outputs": [],
   "source": [
    "sheet_2['create_dt'] = sheet_2['create_dt'].astype('datetime64')"
   ]
  },
  {
   "cell_type": "code",
   "execution_count": 12,
   "metadata": {},
   "outputs": [],
   "source": [
    "Sales_dic = {}"
   ]
  },
  {
   "cell_type": "code",
   "execution_count": 13,
   "metadata": {},
   "outputs": [],
   "source": [
    "Profit_rate_dic = {}"
   ]
  },
  {
   "cell_type": "code",
   "execution_count": 14,
   "metadata": {},
   "outputs": [],
   "source": [
    "def process_sheet1(Q1_start_time):\n",
    "    time_revised_sheet_1 = sheet_1[(sheet_1['create_dt']==Q1_start_time)]\n",
    "    vaild_data_Sheet1 = time_revised_sheet_1[time_revised_sheet_1[\"is_finished\"] == 1]\n",
    "    Q1_sheet1 = vaild_data_Sheet1[['sku_cnt','sku_prc','sku_sale_prc','sku_cost_prc','upc_code']]\n",
    "    Q1_sheet1['upc_code'] = Q1_sheet1.apply(lambda x:x['sku_cnt']*x['sku_sale_prc'],axis=1)\n",
    "    Q1_sheet_1_sales = Q1_sheet1['upc_code'].sum()\n",
    "    promotion_profit_sheet1 = 0\n",
    "    Q1_sheet1 = vaild_data_Sheet1[['sku_cnt','sku_prc','sku_sale_prc','sku_cost_prc','upc_code']]\n",
    "    Q1_sheet1['upc_code'] = Q1_sheet1.apply(lambda x:x['sku_sale_prc']-x['sku_sale_prc']/1.3,axis=1)\n",
    "    non_promotion_profit_sheet1 = Q1_sheet1['upc_code'].sum()                                                                                    \n",
    "    Q1_sheet1 = vaild_data_Sheet1[['sku_cnt','sku_prc','sku_sale_prc','sku_cost_prc','upc_code']]\n",
    "    promotion_cost_sheet1 = Q1_sheet1[Q1_sheet1['sku_cost_prc']!=0]['sku_cost_prc'].sum()\n",
    "    Q1_sheet1['upc_code'] = Q1_sheet1.apply(lambda x:x['sku_sale_prc']/1.3,axis=1)\n",
    "    non_promotion_cost_sheet1 = Q1_sheet1['upc_code'].sum()\n",
    "    \n",
    "    return promotion_profit_sheet1,non_promotion_profit_sheet1,promotion_cost_sheet1,non_promotion_cost_sheet1,Q1_sheet_1_sales"
   ]
  },
  {
   "cell_type": "code",
   "execution_count": 15,
   "metadata": {},
   "outputs": [],
   "source": [
    "def process_sheet2(Q1_start_time):\n",
    "    time_revised_sheet_2 = sheet_2[(sheet_2['create_dt']==Q1_start_time)]\n",
    "    vaild_data_Sheet2 = time_revised_sheet_2[time_revised_sheet_2[\"is_finished\"] == 1]\n",
    "    Q1_sheet2 = vaild_data_Sheet2[['sku_cnt','sku_prc','sku_sale_prc','sku_cost_prc','upc_code']]\n",
    "    Q1_sheet2['upc_code'] = Q1_sheet2.apply(lambda x:x['sku_cnt']*x['sku_sale_prc'],axis=1)\n",
    "    Q1_sheet_2_sales = Q1_sheet2['upc_code'].sum()\n",
    "    promotion_profit_sheet2 = 0\n",
    "    Q1_sheet2 = vaild_data_Sheet2[['sku_cnt','sku_prc','sku_sale_prc','sku_cost_prc','upc_code']]\n",
    "    Q1_sheet2['upc_code'] = Q1_sheet2.apply(lambda x:x['sku_sale_prc']-x['sku_sale_prc']/1.3,axis=1)\n",
    "    non_promotion_profit_sheet2 = Q1_sheet2['upc_code'].sum()                                                                                    \n",
    "    Q1_sheet2 = vaild_data_Sheet2[['sku_cnt','sku_prc','sku_sale_prc','sku_cost_prc','upc_code']]\n",
    "    promotion_cost_sheet2 = Q1_sheet2[Q1_sheet2['sku_cost_prc']!=0]['sku_cost_prc'].sum()\n",
    "    Q1_sheet2['upc_code'] = Q1_sheet2.apply(lambda x:x['sku_sale_prc']/1.3,axis=1)\n",
    "    non_promotion_cost_sheet2 = Q1_sheet2['upc_code'].sum()\n",
    "    \n",
    "    \n",
    "    return promotion_profit_sheet2,non_promotion_profit_sheet2,promotion_cost_sheet2,non_promotion_cost_sheet2,Q1_sheet_2_sales"
   ]
  },
  {
   "cell_type": "code",
   "execution_count": 16,
   "metadata": {},
   "outputs": [
    {
     "name": "stderr",
     "output_type": "stream",
     "text": [
      "/Users/duli/anaconda3/lib/python3.6/site-packages/ipykernel_launcher.py:5: SettingWithCopyWarning: \n",
      "A value is trying to be set on a copy of a slice from a DataFrame.\n",
      "Try using .loc[row_indexer,col_indexer] = value instead\n",
      "\n",
      "See the caveats in the documentation: http://pandas.pydata.org/pandas-docs/stable/indexing.html#indexing-view-versus-copy\n",
      "  \"\"\"\n",
      "/Users/duli/anaconda3/lib/python3.6/site-packages/ipykernel_launcher.py:9: SettingWithCopyWarning: \n",
      "A value is trying to be set on a copy of a slice from a DataFrame.\n",
      "Try using .loc[row_indexer,col_indexer] = value instead\n",
      "\n",
      "See the caveats in the documentation: http://pandas.pydata.org/pandas-docs/stable/indexing.html#indexing-view-versus-copy\n",
      "  if __name__ == '__main__':\n",
      "/Users/duli/anaconda3/lib/python3.6/site-packages/ipykernel_launcher.py:13: SettingWithCopyWarning: \n",
      "A value is trying to be set on a copy of a slice from a DataFrame.\n",
      "Try using .loc[row_indexer,col_indexer] = value instead\n",
      "\n",
      "See the caveats in the documentation: http://pandas.pydata.org/pandas-docs/stable/indexing.html#indexing-view-versus-copy\n",
      "  del sys.path[0]\n"
     ]
    }
   ],
   "source": [
    "while Q1_start_time<=Q1_end_time:\n",
    "    if (sheet_1[(sheet_1['create_dt']==Q1_start_time)].empty)and(sheet_2[(sheet_2['create_dt']==Q1_start_time)].empty):\n",
    "        Sales_dic[Q1_start_time] = (0)\n",
    "        Profit_rate_dic[Q1_start_time] = (0)\n",
    "        Q1_start_time = Q1_start_time + 1\n",
    "        continue\n",
    "    if not(sheet_1[(sheet_1['create_dt']==Q1_start_time)].empty):\n",
    "        \n",
    "        promotion_profit_sheet1,non_promotion_profit_sheet1,promotion_cost_sheet1,non_promotion_cost_sheet1,Q1_sheet_1_sales = process_sheet1(Q1_start_time)\n",
    "    else:\n",
    "        \n",
    "        promotion_profit_sheet1 = 0\n",
    "        non_promotion_profit_sheet1 = 0\n",
    "        promotion_cost_sheet1 = 0\n",
    "        non_promotion_cost_sheet1 = 0\n",
    "        Q1_sheet_1_sales = 0\n",
    "\n",
    "    if not(sheet_2[(sheet_2['create_dt']==Q1_start_time)].empty):\n",
    "        promotion_profit_sheet2,non_promotion_profit_sheet2,promotion_cost_sheet2,non_promotion_cost_sheet2,Q1_sheet_2_sales = process_sheet2(Q1_start_time)\n",
    "    else:\n",
    "        promotion_profit_sheet2 = 0\n",
    "        non_promotion_profit_sheet2 = 0\n",
    "        promotion_cost_sheet2 = 0\n",
    "        non_promotion_cost_sheet2 = 0\n",
    "        Q1_sheet_2_sales = 0\n",
    "\n",
    "\n",
    "        \n",
    "    Q1_sales = Q1_sheet_1_sales + Q1_sheet_2_sales\n",
    "    Q1_profit_rate = ((promotion_profit_sheet1+promotion_profit_sheet2+non_promotion_profit_sheet1+non_promotion_profit_sheet2)/(promotion_cost_sheet1+promotion_cost_sheet2+non_promotion_cost_sheet1+non_promotion_cost_sheet2))\n",
    "    \n",
    "    Sales_dic[Q1_start_time] = (Q1_sales)\n",
    "    Profit_rate_dic[Q1_start_time] = (Q1_profit_rate) \n",
    "    \n",
    "    Q1_start_time = Q1_start_time + 1\n",
    "    \n",
    "   "
   ]
  },
  {
   "cell_type": "code",
   "execution_count": null,
   "metadata": {},
   "outputs": [],
   "source": []
  },
  {
   "cell_type": "markdown",
   "metadata": {},
   "source": [
    "# Q2"
   ]
  },
  {
   "cell_type": "markdown",
   "metadata": {},
   "source": [
    "## Pararmeters Calculation"
   ]
  },
  {
   "cell_type": "code",
   "execution_count": 17,
   "metadata": {},
   "outputs": [],
   "source": [
    "import numpy as np\n",
    "import pandas as pd"
   ]
  },
  {
   "cell_type": "code",
   "execution_count": 18,
   "metadata": {},
   "outputs": [],
   "source": [
    "import time"
   ]
  },
  {
   "cell_type": "code",
   "execution_count": 19,
   "metadata": {},
   "outputs": [
    {
     "name": "stderr",
     "output_type": "stream",
     "text": [
      "/Users/duli/anaconda3/lib/python3.6/site-packages/IPython/core/interactiveshell.py:2728: DtypeWarning: Columns (9) have mixed types. Specify dtype option on import or set low_memory=False.\n",
      "  interactivity=interactivity, compiler=compiler, result=result)\n"
     ]
    }
   ],
   "source": [
    "sheet_1 = pd.read_csv(\"附件1.csv\",encoding='gb18030')"
   ]
  },
  {
   "cell_type": "code",
   "execution_count": 20,
   "metadata": {},
   "outputs": [
    {
     "name": "stderr",
     "output_type": "stream",
     "text": [
      "/Users/duli/anaconda3/lib/python3.6/site-packages/IPython/core/interactiveshell.py:2728: DtypeWarning: Columns (9) have mixed types. Specify dtype option on import or set low_memory=False.\n",
      "  interactivity=interactivity, compiler=compiler, result=result)\n"
     ]
    }
   ],
   "source": [
    "sheet_2 = pd.read_csv(\"附件2.csv\",encoding='gb18030')"
   ]
  },
  {
   "cell_type": "code",
   "execution_count": 21,
   "metadata": {},
   "outputs": [],
   "source": [
    "excel3 = pd.ExcelFile('附件3.xlsx')\n",
    "sheet_3 = pd.read_excel(excel3)"
   ]
  },
  {
   "cell_type": "code",
   "execution_count": 22,
   "metadata": {},
   "outputs": [],
   "source": [
    "excel4 = pd.ExcelFile('附件4.xlsx')\n",
    "sheet_4 = pd.read_excel(excel4)"
   ]
  },
  {
   "cell_type": "code",
   "execution_count": 23,
   "metadata": {},
   "outputs": [],
   "source": [
    "sheet_1['create_dt'] = sheet_1['create_dt'].astype('datetime64')"
   ]
  },
  {
   "cell_type": "code",
   "execution_count": 24,
   "metadata": {},
   "outputs": [],
   "source": [
    "sheet_2['create_dt'] = sheet_2['create_dt'].astype('datetime64')"
   ]
  },
  {
   "cell_type": "code",
   "execution_count": 25,
   "metadata": {},
   "outputs": [],
   "source": [
    "sheet_1 = sheet_1[sheet_1['is_finished']==1]"
   ]
  },
  {
   "cell_type": "code",
   "execution_count": 26,
   "metadata": {},
   "outputs": [],
   "source": [
    "sheet_2 = sheet_2[sheet_2['is_finished']==1]"
   ]
  },
  {
   "cell_type": "code",
   "execution_count": 27,
   "metadata": {},
   "outputs": [],
   "source": [
    "RCDS_Weight = np.array([(1, 1/7, 1/5),(7, 1, 2),(5, 1/2, 1)])"
   ]
  },
  {
   "cell_type": "code",
   "execution_count": 96,
   "metadata": {},
   "outputs": [],
   "source": [
    "W_ = {}\n",
    "W_sum = 0\n",
    "for i in range(RCDS_Weight.shape[0]):\n",
    "    name_matrix = ['Wc_', 'Wd_', 'Ws_']\n",
    "    temp = 1\n",
    "    for j in range(RCDS_Weight.shape[1]):\n",
    "        temp = RCDS_Weight[i, j]*temp\n",
    "    W_[name_matrix[i]] = np.power(temp,1/3)\n",
    "    W_sum += W_[name_matrix[i]]\n",
    "    \n",
    "    "
   ]
  },
  {
   "cell_type": "code",
   "execution_count": 29,
   "metadata": {},
   "outputs": [],
   "source": [
    "for i in W_:\n",
    "    W_[i] = round(W_[i]/W_sum,3)\n",
    "    "
   ]
  },
  {
   "cell_type": "code",
   "execution_count": 97,
   "metadata": {},
   "outputs": [
    {
     "data": {
      "text/plain": [
       "{'Wc_': 0.30571070873287987,\n",
       " 'Wd_': 2.4101422641752297,\n",
       " 'Ws_': 1.3572088082974532}"
      ]
     },
     "execution_count": 97,
     "metadata": {},
     "output_type": "execute_result"
    }
   ],
   "source": [
    "W_"
   ]
  },
  {
   "cell_type": "code",
   "execution_count": 31,
   "metadata": {},
   "outputs": [
    {
     "data": {
      "text/plain": [
       "{'Wc_': 0.075, 'Wd_': 0.592, 'Ws_': 0.333}"
      ]
     },
     "execution_count": 31,
     "metadata": {},
     "output_type": "execute_result"
    }
   ],
   "source": [
    "W_"
   ]
  },
  {
   "cell_type": "code",
   "execution_count": 32,
   "metadata": {},
   "outputs": [],
   "source": [
    "b = np.linalg.eigvals(RCDS_Weight)"
   ]
  },
  {
   "cell_type": "code",
   "execution_count": 33,
   "metadata": {},
   "outputs": [],
   "source": [
    "lamb = b[0].real"
   ]
  },
  {
   "cell_type": "code",
   "execution_count": 34,
   "metadata": {},
   "outputs": [
    {
     "data": {
      "text/plain": [
       "3.014151882186208"
      ]
     },
     "execution_count": 34,
     "metadata": {},
     "output_type": "execute_result"
    }
   ],
   "source": [
    "lamb"
   ]
  },
  {
   "cell_type": "code",
   "execution_count": 35,
   "metadata": {},
   "outputs": [],
   "source": [
    "CI = (lamb - 3)/2"
   ]
  },
  {
   "cell_type": "code",
   "execution_count": 36,
   "metadata": {},
   "outputs": [
    {
     "data": {
      "text/plain": [
       "0.0070759410931040545"
      ]
     },
     "execution_count": 36,
     "metadata": {},
     "output_type": "execute_result"
    }
   ],
   "source": [
    "CI"
   ]
  },
  {
   "cell_type": "code",
   "execution_count": 37,
   "metadata": {},
   "outputs": [
    {
     "data": {
      "text/plain": [
       "array([[1.        , 0.14285714, 0.2       ],\n",
       "       [7.        , 1.        , 2.        ],\n",
       "       [5.        , 0.5       , 1.        ]])"
      ]
     },
     "execution_count": 37,
     "metadata": {},
     "output_type": "execute_result"
    }
   ],
   "source": [
    "RCDS_Weight"
   ]
  },
  {
   "cell_type": "code",
   "execution_count": 38,
   "metadata": {},
   "outputs": [],
   "source": [
    "RI = 0.58"
   ]
  },
  {
   "cell_type": "code",
   "execution_count": 39,
   "metadata": {},
   "outputs": [],
   "source": [
    "CR = CI / RI"
   ]
  },
  {
   "cell_type": "code",
   "execution_count": 40,
   "metadata": {},
   "outputs": [
    {
     "data": {
      "text/plain": [
       "0.012199898436386301"
      ]
     },
     "execution_count": 40,
     "metadata": {},
     "output_type": "execute_result"
    }
   ],
   "source": [
    "CR"
   ]
  },
  {
   "cell_type": "code",
   "execution_count": 98,
   "metadata": {},
   "outputs": [
    {
     "data": {
      "text/plain": [
       "0.024137931034482762"
      ]
     },
     "execution_count": 98,
     "metadata": {},
     "output_type": "execute_result"
    }
   ],
   "source": [
    "0.014/0.58"
   ]
  },
  {
   "cell_type": "markdown",
   "metadata": {},
   "source": [
    "## Implementation"
   ]
  },
  {
   "cell_type": "code",
   "execution_count": 41,
   "metadata": {},
   "outputs": [],
   "source": [
    "a = sheet_3[np.logical_and((sheet_3['begin_time']<=np.datetime64('2017-09-02 23:59:59')),(sheet_3['end_time']>=np.datetime64('2017-09-02 00:00:00')))]"
   ]
  },
  {
   "cell_type": "code",
   "execution_count": 42,
   "metadata": {},
   "outputs": [],
   "source": [
    "sheet_3_vaild = sheet_3[sheet_3['state']==5]"
   ]
  },
  {
   "cell_type": "code",
   "execution_count": 43,
   "metadata": {},
   "outputs": [],
   "source": [
    "Q2_start_time = np.datetime64('2016-11-30 00:00:00')"
   ]
  },
  {
   "cell_type": "code",
   "execution_count": 44,
   "metadata": {},
   "outputs": [],
   "source": [
    "Q2_days = np.datetime64('2016-11-30')"
   ]
  },
  {
   "cell_type": "code",
   "execution_count": 45,
   "metadata": {},
   "outputs": [],
   "source": [
    "Q2_day_time = np.datetime64('2016-11-30 23:59:59')"
   ]
  },
  {
   "cell_type": "code",
   "execution_count": 46,
   "metadata": {},
   "outputs": [],
   "source": [
    "Q2_end_time = np.datetime64('2019-01-02 23:59:59')"
   ]
  },
  {
   "cell_type": "code",
   "execution_count": 47,
   "metadata": {},
   "outputs": [],
   "source": [
    "Discount_info_per_day = {}"
   ]
  },
  {
   "cell_type": "code",
   "execution_count": 48,
   "metadata": {},
   "outputs": [],
   "source": [
    "while Q2_start_time<=Q2_end_time:\n",
    "    \n",
    "    a = sheet_3_vaild[np.logical_and((sheet_3_vaild['begin_time']<=Q2_day_time),(sheet_3_vaild['end_time']>=Q2_start_time))]\n",
    "    Discount_info_per_day[Q2_days] = a\n",
    "    \n",
    "    Q2_start_time = Q2_start_time + 86400\n",
    "    Q2_days = Q2_days + 1\n",
    "    Q2_day_time = Q2_day_time + 86400"
   ]
  },
  {
   "cell_type": "markdown",
   "metadata": {},
   "source": [
    "## After 2017-03-07"
   ]
  },
  {
   "cell_type": "code",
   "execution_count": 49,
   "metadata": {},
   "outputs": [],
   "source": [
    "C_per_day = {}"
   ]
  },
  {
   "cell_type": "code",
   "execution_count": 50,
   "metadata": {},
   "outputs": [],
   "source": [
    "S_per_day = {}"
   ]
  },
  {
   "cell_type": "code",
   "execution_count": 51,
   "metadata": {},
   "outputs": [],
   "source": [
    "D_per_day ={}"
   ]
  },
  {
   "cell_type": "code",
   "execution_count": 52,
   "metadata": {},
   "outputs": [],
   "source": [
    "Q2_end_time = np.datetime64('2019-01-02')"
   ]
  },
  {
   "cell_type": "code",
   "execution_count": 53,
   "metadata": {},
   "outputs": [],
   "source": [
    "Q2_start_time = np.datetime64('2017-03-07')"
   ]
  },
  {
   "cell_type": "code",
   "execution_count": 54,
   "metadata": {},
   "outputs": [],
   "source": [
    "sheet_1 = pd.concat([sheet_1,sheet_2])"
   ]
  },
  {
   "cell_type": "code",
   "execution_count": 55,
   "metadata": {},
   "outputs": [],
   "source": [
    "while Q2_start_time<=Q2_end_time:\n",
    "    Discount_record = sheet_1[sheet_1['create_dt']==Q2_start_time]\n",
    "    test_Q2= pd.concat([Discount_record['sku_id'],Discount_info_per_day[Q2_start_time]['sku_id']])\n",
    "    Class_of_goods = len(test_Q2.unique())\n",
    "    C_per_day[Q2_start_time] = Class_of_goods\n",
    "    Sales_count_sheet = Discount_record\n",
    "    Sales_count = Discount_record['sku_cnt'].sum()\n",
    "    S_per_day[Q2_start_time] = Sales_count\n",
    "    Dis_info_board= Discount_info_per_day[Q2_start_time]\n",
    "    Dis_info_un = Dis_info_board.groupby(['sku_id']).sum()\n",
    "    Dis_info_un['id'] = (Dis_info_un['pdj_price']-Dis_info_un['promotion_price'])/Dis_info_un['pdj_price']\n",
    "    Dis_rate_board = (Dis_info_un['id'].sum())/len(Dis_info_un)\n",
    "    for i in range(len(Dis_info_un)):\n",
    "        Discount_record = Discount_record[Discount_record['sku_id']!=Dis_info_un.index[1]]\n",
    "    \n",
    "    Discount_record_un = Discount_record.groupby(['sku_id']).sum()\n",
    "    Discount_record_un['is_finished'] = (Discount_record_un['sku_prc'] - Discount_record_un['sku_sale_prc'])/Discount_record_un['sku_prc']\n",
    "    if Discount_record_un['is_finished'].sum()!=0:\n",
    "        Dis_rate_record = (Discount_record_un['is_finished'].sum())/len(Discount_record_un)\n",
    "    else:\n",
    "        Dis_rate_record = 0\n",
    "    Dis_rate = (Dis_rate_board + Dis_rate_record)/2\n",
    "    D_per_day[Q2_start_time] = Dis_rate\n",
    "    \n",
    "    Q2_start_time = Q2_start_time + 1\n",
    "        \n",
    "    "
   ]
  },
  {
   "cell_type": "markdown",
   "metadata": {},
   "source": [
    "## Before 2017-03-07"
   ]
  },
  {
   "cell_type": "code",
   "execution_count": 56,
   "metadata": {},
   "outputs": [],
   "source": [
    "Q2_end_time = np.datetime64('2017-03-06')"
   ]
  },
  {
   "cell_type": "code",
   "execution_count": 57,
   "metadata": {},
   "outputs": [],
   "source": [
    "Q2_start_time = np.datetime64('2016-11-30')"
   ]
  },
  {
   "cell_type": "code",
   "execution_count": 58,
   "metadata": {},
   "outputs": [],
   "source": [
    "while Q2_start_time<=Q2_end_time:\n",
    "    Discount_record = sheet_1[sheet_1['create_dt']==Q2_start_time]\n",
    "    No_of_Goods = len(Discount_record['sku_id'].unique())\n",
    "    C_per_day[Q2_start_time] = No_of_Goods\n",
    "    Sales_count_bef = Discount_record['sku_cnt'].sum()\n",
    "    S_per_day[Q2_start_time] = Sales_count_bef\n",
    "    Discount_un = Discount_record.groupby(['sku_id']).sum()\n",
    "    Discount_un['is_finished'] = (Discount_un['sku_prc'] - Discount_un['sku_sale_prc'])/Discount_un['sku_prc']\n",
    "    \n",
    "    if Discount_un['is_finished'].sum()!=0:\n",
    "        Dis_rate = (Discount_un['is_finished'].sum())/len(Discount_un)\n",
    "    else:\n",
    "        Dis_rate = 0\n",
    "\n",
    "    D_per_day[Q2_start_time] = Dis_rate\n",
    "    \n",
    "    Q2_start_time = Q2_start_time + 1"
   ]
  },
  {
   "cell_type": "code",
   "execution_count": 59,
   "metadata": {},
   "outputs": [],
   "source": [
    "\n",
    "start_time = np.datetime64('2016-11-30')\n",
    "min_c = 10000\n",
    "for i in range(len(C_per_day)):\n",
    "    if (C_per_day[start_time]<min_c):\n",
    "        min_c = C_per_day[start_time]\n",
    "    start_time = start_time + 1\n"
   ]
  },
  {
   "cell_type": "code",
   "execution_count": 60,
   "metadata": {},
   "outputs": [],
   "source": [
    "\n",
    "start_time = np.datetime64('2016-11-30')\n",
    "max_c = 10\n",
    "for i in range(len(C_per_day)):\n",
    "    if (C_per_day[start_time]>max_c):\n",
    "        max_c = C_per_day[start_time]\n",
    "    start_time = start_time + 1\n"
   ]
  },
  {
   "cell_type": "code",
   "execution_count": 61,
   "metadata": {},
   "outputs": [],
   "source": [
    "start_time = np.datetime64('2016-11-30')\n",
    "min_s = 10000\n",
    "for i in range(len(S_per_day)):\n",
    "    if (S_per_day[start_time]<min_s):\n",
    "        min_s = S_per_day[start_time]\n",
    "    start_time = start_time + 1\n"
   ]
  },
  {
   "cell_type": "code",
   "execution_count": 62,
   "metadata": {},
   "outputs": [],
   "source": [
    "\n",
    "start_time = np.datetime64('2016-11-30')\n",
    "max_s = 10\n",
    "for i in range(len(S_per_day)):\n",
    "    if (S_per_day[start_time]>max_s):\n",
    "        max_s = S_per_day[start_time]\n",
    "    start_time = start_time + 1\n",
    "\n"
   ]
  },
  {
   "cell_type": "code",
   "execution_count": 63,
   "metadata": {},
   "outputs": [],
   "source": [
    "start_time = np.datetime64('2016-11-30')\n",
    "min_d = 10000\n",
    "for i in range(len(D_per_day)):\n",
    "    if (D_per_day[start_time]<min_d):\n",
    "        min_d = D_per_day[start_time]\n",
    "    start_time = start_time + 1\n",
    "\n"
   ]
  },
  {
   "cell_type": "code",
   "execution_count": 64,
   "metadata": {},
   "outputs": [],
   "source": [
    "\n",
    "start_time = np.datetime64('2016-11-30')\n",
    "max_d = 0.1\n",
    "for i in range(len(D_per_day)):\n",
    "    if (D_per_day[start_time]>max_d):\n",
    "        max_d = D_per_day[start_time]\n",
    "    start_time = start_time + 1\n",
    "\n"
   ]
  },
  {
   "cell_type": "code",
   "execution_count": 65,
   "metadata": {},
   "outputs": [
    {
     "data": {
      "text/plain": [
       "110"
      ]
     },
     "execution_count": 65,
     "metadata": {},
     "output_type": "execute_result"
    }
   ],
   "source": [
    "min_c"
   ]
  },
  {
   "cell_type": "code",
   "execution_count": 66,
   "metadata": {},
   "outputs": [
    {
     "data": {
      "text/plain": [
       "3056"
      ]
     },
     "execution_count": 66,
     "metadata": {},
     "output_type": "execute_result"
    }
   ],
   "source": [
    "max_c"
   ]
  },
  {
   "cell_type": "code",
   "execution_count": 67,
   "metadata": {},
   "outputs": [
    {
     "data": {
      "text/plain": [
       "0.029546289438748687"
      ]
     },
     "execution_count": 67,
     "metadata": {},
     "output_type": "execute_result"
    }
   ],
   "source": [
    "min_d"
   ]
  },
  {
   "cell_type": "code",
   "execution_count": 68,
   "metadata": {},
   "outputs": [
    {
     "data": {
      "text/plain": [
       "0.22859252190408413"
      ]
     },
     "execution_count": 68,
     "metadata": {},
     "output_type": "execute_result"
    }
   ],
   "source": [
    "max_d"
   ]
  },
  {
   "cell_type": "code",
   "execution_count": 69,
   "metadata": {},
   "outputs": [
    {
     "data": {
      "text/plain": [
       "0"
      ]
     },
     "execution_count": 69,
     "metadata": {},
     "output_type": "execute_result"
    }
   ],
   "source": [
    "min_s"
   ]
  },
  {
   "cell_type": "code",
   "execution_count": 70,
   "metadata": {},
   "outputs": [
    {
     "data": {
      "text/plain": [
       "19590"
      ]
     },
     "execution_count": 70,
     "metadata": {},
     "output_type": "execute_result"
    }
   ],
   "source": [
    "max_s"
   ]
  },
  {
   "cell_type": "markdown",
   "metadata": {},
   "source": [
    "## Calculating the discount rate\n"
   ]
  },
  {
   "cell_type": "code",
   "execution_count": 71,
   "metadata": {},
   "outputs": [],
   "source": [
    "value_c = {}\n",
    "start_time = np.datetime64('2016-11-30')\n",
    "for i in range(len(C_per_day)):\n",
    "    value_c[start_time] = np.ceil(C_per_day[start_time]*5/(max_c-min_c))\n",
    "    start_time = start_time + 1"
   ]
  },
  {
   "cell_type": "code",
   "execution_count": 72,
   "metadata": {},
   "outputs": [],
   "source": [
    "value_d = {}\n",
    "start_time = np.datetime64('2016-11-30')\n",
    "for i in range(len(D_per_day)):\n",
    "    value_d[start_time] = np.ceil((D_per_day[start_time]-min_d)*5/(max_d-min_d))\n",
    "    start_time = start_time + 1"
   ]
  },
  {
   "cell_type": "code",
   "execution_count": 73,
   "metadata": {},
   "outputs": [],
   "source": [
    "value_s = {}\n",
    "start_time = np.datetime64('2016-11-30')\n",
    "for i in range(len(S_per_day)):\n",
    "    value_s[start_time] = np.ceil(S_per_day[start_time]*5/(max_s-min_s))\n",
    "    start_time = start_time + 1"
   ]
  },
  {
   "cell_type": "code",
   "execution_count": 74,
   "metadata": {},
   "outputs": [],
   "source": [
    "Value_dic = {}\n",
    "start_time = np.datetime64('2016-11-30')\n",
    "\n",
    "for i in range(len(value_c)):\n",
    "    value_temp = value_c[start_time]*W_['Wc_']+value_d[start_time]*W_['Wd_']+value_s[start_time]*W_['Ws_']\n",
    "    Value_dic[start_time] = value_temp\n",
    "    \n",
    "    start_time = start_time + 1\n",
    "    "
   ]
  },
  {
   "cell_type": "code",
   "execution_count": 75,
   "metadata": {},
   "outputs": [],
   "source": [
    "value_c_ = {}\n",
    "start_time = np.datetime64('2016-11-30')\n",
    "for i in range(len(C_per_day)):\n",
    "    value_c_[start_time] = (C_per_day[start_time]/(max_c-min_c))\n",
    "    start_time = start_time + 1"
   ]
  },
  {
   "cell_type": "code",
   "execution_count": 76,
   "metadata": {},
   "outputs": [],
   "source": [
    "value_d_ = {}\n",
    "start_time = np.datetime64('2016-11-30')\n",
    "for i in range(len(D_per_day)):\n",
    "    value_d_[start_time] = ((D_per_day[start_time]-min_d)/(max_d-min_d))\n",
    "    start_time = start_time + 1"
   ]
  },
  {
   "cell_type": "code",
   "execution_count": 77,
   "metadata": {},
   "outputs": [],
   "source": [
    "value_s_ = {}\n",
    "start_time = np.datetime64('2016-11-30')\n",
    "for i in range(len(S_per_day)):\n",
    "    value_s_[start_time] = (S_per_day[start_time]/(max_s-min_s))\n",
    "    start_time = start_time + 1"
   ]
  },
  {
   "cell_type": "code",
   "execution_count": 78,
   "metadata": {},
   "outputs": [],
   "source": [
    "Value_dic_ = {}\n",
    "start_time = np.datetime64('2016-11-30')\n",
    "\n",
    "for i in range(len(value_c_)):\n",
    "    value_temp = value_c_[start_time]*W_['Wc_']+value_d_[start_time]*W_['Wd_']+value_s_[start_time]*W_['Ws_']\n",
    "    Value_dic_[start_time] = value_temp\n",
    "    \n",
    "    start_time = start_time + 1\n",
    "    "
   ]
  },
  {
   "cell_type": "code",
   "execution_count": 79,
   "metadata": {},
   "outputs": [],
   "source": [
    "import matplotlib.pyplot as plt"
   ]
  },
  {
   "cell_type": "code",
   "execution_count": 80,
   "metadata": {},
   "outputs": [],
   "source": [
    "x = np.arange(0,len(Sales_dic))"
   ]
  },
  {
   "cell_type": "code",
   "execution_count": 81,
   "metadata": {},
   "outputs": [
    {
     "data": {
      "image/png": "[encoded data removed]",
      "text/plain": [
       "<matplotlib.figure.Figure at 0x110c8e710>"
      ]
     },
     "metadata": {},
     "output_type": "display_data"
    }
   ],
   "source": [
    "fig = plt.figure()\n",
    "ax=fig.add_subplot(1,1,1)\n",
    "ax.plot(x,Sales_dic.values(),'r')\n",
    "ax.set_title('Sales per Day')\n",
    "ax.set_xticks([0,760])\n",
    "ax.set_xticklabels(['2016-11-30','2019-1-2'],fontsize=    'small')\n",
    "plt.savefig('4.jpg')\n",
    "plt.show()"
   ]
  },
  {
   "cell_type": "code",
   "execution_count": 82,
   "metadata": {},
   "outputs": [
    {
     "data": {
      "image/png": "[encoded data removed]",
      "text/plain": [
       "<matplotlib.figure.Figure at 0x110c8e080>"
      ]
     },
     "metadata": {},
     "output_type": "display_data"
    }
   ],
   "source": [
    "fig = plt.figure()\n",
    "ax=fig.add_subplot(1,1,1)\n",
    "ax.plot(x,Profit_rate_dic.values())\n",
    "ax.set_title('Profit rate per Day')\n",
    "ax.set_xticks([0,760])\n",
    "ax.set_xticklabels(['2016-11-30','2019-1-2'],fontsize=    'small')\n",
    "plt.savefig('4.jpg')\n",
    "plt.show()"
   ]
  },
  {
   "cell_type": "code",
   "execution_count": 83,
   "metadata": {},
   "outputs": [],
   "source": [
    "a = Value_dic_.values()"
   ]
  },
  {
   "cell_type": "code",
   "execution_count": 99,
   "metadata": {},
   "outputs": [
    {
     "data": {
      "image/png": "[encoded data removed]",
      "text/plain": [
       "<matplotlib.figure.Figure at 0x11e305ac8>"
      ]
     },
     "metadata": {},
     "output_type": "display_data"
    }
   ],
   "source": [
    "fig = plt.figure()\n",
    "ax=fig.add_subplot(1,1,1)\n",
    "ax.plot(x,a,'r')\n",
    "ax.set_title('Discount value per Day')\n",
    "ax.set_xticks([0,760])\n",
    "ax.set_xticklabels(['2016-11-30','2019-1-2'],fontsize=    'small')\n",
    "plt.savefig('4.jpg')\n",
    "plt.show()"
   ]
  },
  {
   "cell_type": "code",
   "execution_count": 85,
   "metadata": {},
   "outputs": [
    {
     "data": {
      "text/plain": [
       "0.27547263510680464"
      ]
     },
     "execution_count": 85,
     "metadata": {},
     "output_type": "execute_result"
    }
   ],
   "source": [
    "Value_dic_[np.datetime64('2018-12-24')]"
   ]
  },
  {
   "cell_type": "code",
   "execution_count": 86,
   "metadata": {},
   "outputs": [
    {
     "data": {
      "text/plain": [
       "0.5773930753564155"
      ]
     },
     "execution_count": 86,
     "metadata": {},
     "output_type": "execute_result"
    }
   ],
   "source": [
    "value_c_[np.datetime64('2018-12-24')]"
   ]
  },
  {
   "cell_type": "code",
   "execution_count": 87,
   "metadata": {},
   "outputs": [
    {
     "data": {
      "text/plain": [
       "0.39217593657951605"
      ]
     },
     "execution_count": 87,
     "metadata": {},
     "output_type": "execute_result"
    }
   ],
   "source": [
    "value_d_[np.datetime64('2018-12-24')]"
   ]
  },
  {
   "cell_type": "code",
   "execution_count": 88,
   "metadata": {},
   "outputs": [
    {
     "data": {
      "text/plain": [
       "0.0"
      ]
     },
     "execution_count": 88,
     "metadata": {},
     "output_type": "execute_result"
    }
   ],
   "source": [
    "value_s_[np.datetime64('2018-12-24')]"
   ]
  },
  {
   "cell_type": "code",
   "execution_count": 89,
   "metadata": {},
   "outputs": [],
   "source": [
    "import pandas as pd\n",
    "import matplotlib.pyplot as plt \n",
    "from mpl_toolkits.mplot3d import Axes3D "
   ]
  },
  {
   "cell_type": "code",
   "execution_count": 101,
   "metadata": {},
   "outputs": [
    {
     "data": {
      "image/png": "[encoded data removed]",
      "text/plain": [
       "<matplotlib.figure.Figure at 0x10e8c9278>"
      ]
     },
     "metadata": {},
     "output_type": "display_data"
    }
   ],
   "source": [
    "fig = plt.figure()\n",
    "ax = Axes3D(fig)\n",
    "#ax.view_init(270, 0)\n",
    "ax.set_title('Data Visualization')\n",
    "\n",
    "\n",
    "ax.scatter(list(Sales_dic.values()),list(Profit_rate_dic.values()),list(Value_dic_.values()))\n",
    "plt.savefig('4.jpg')\n",
    "\n"
   ]
  },
  {
   "cell_type": "code",
   "execution_count": 91,
   "metadata": {},
   "outputs": [
    {
     "name": "stderr",
     "output_type": "stream",
     "text": [
      "/Users/duli/anaconda3/lib/python3.6/site-packages/h5py/__init__.py:36: FutureWarning: Conversion of the second argument of issubdtype from `float` to `np.floating` is deprecated. In future, it will be treated as `np.float64 == np.dtype(float).type`.\n",
      "  from ._conv import register_converters as _register_converters\n",
      "/Users/duli/anaconda3/lib/python3.6/site-packages/requests/__init__.py:80: RequestsDependencyWarning: urllib3 (1.23) or chardet (3.0.4) doesn't match a supported version!\n",
      "  RequestsDependencyWarning)\n"
     ]
    }
   ],
   "source": [
    "import numpy as np\n",
    "import tensorflow as tf\n",
    "import time\n",
    "import matplotlib.pyplot as plt\n",
    "from mpl_toolkits.mplot3d import Axes3D\n",
    "\n",
    "# 参数、迭代阈值\n",
    "w1 = 0\n",
    "w2 = 0\n",
    "b = 0\n",
    "threshold = 0.00001"
   ]
  },
  {
   "cell_type": "code",
   "execution_count": 92,
   "metadata": {},
   "outputs": [
    {
     "data": {
      "image/png": "[encoded data removed]",
      "text/plain": [
       "<matplotlib.figure.Figure at 0x11e310518>"
      ]
     },
     "metadata": {},
     "output_type": "display_data"
    }
   ],
   "source": [
    "# 1.生成数据\n",
    "# 这里需要强制转换成float32，否则后面在matmul时会提示float32和float64类型不匹配\n",
    "# 这里的x_data包含x和y坐标\n",
    "x_coor = np.float32(list(Sales_dic.values()))\n",
    "y_coor = np.float32(list(Profit_rate_dic.values()))\n",
    "x_data = np.float32(np.zeros([2, len(Sales_dic)]))\n",
    "\n",
    "\n",
    "x_data[0, :] = np.float32(list(Sales_dic.values()))\n",
    "x_data[1, :] = np.float32(list(Profit_rate_dic.values()))\n",
    "y_data = np.dot([w1, w2], x_data) + b\n",
    "\n",
    "\n",
    "y_data = np.float32(list(Value_dic_.values()))\n",
    "\n",
    "ax = plt.figure().add_subplot(111, projection='3d')\n",
    "ax.scatter(x_coor, y_coor, y_data, c='r', marker='o')\n",
    "\n",
    "# 显示图像\n",
    "plt.show()"
   ]
  },
  {
   "cell_type": "code",
   "execution_count": 93,
   "metadata": {},
   "outputs": [
    {
     "name": "stdout",
     "output_type": "stream",
     "text": [
      "WARNING:tensorflow:From /Users/duli/anaconda3/lib/python3.6/site-packages/tensorflow/python/framework/op_def_library.py:263: colocate_with (from tensorflow.python.framework.ops) is deprecated and will be removed in a future version.\n",
      "Instructions for updating:\n",
      "Colocations handled automatically by placer.\n",
      "1 5.2761915e+28 [[-6.352137e+09 -2.533652e+04]] [-125810.69]\n",
      "2 inf [[8.306166e+18 3.303977e+13]] [1.6452184e+14]\n",
      "3 inf [[-1.0861288e+28 -4.3203383e+22]] [-2.1513166e+23]\n",
      "4 inf [[1.4202411e+37 5.6493500e+31]] [2.8130988e+32]\n",
      "5 nan [[-inf -inf]] [-inf]\n",
      "0.13312697410583496 seconds.\n"
     ]
    }
   ],
   "source": [
    "# random_uniform用于返回一个指定大小，数值介于指定范围的矩阵\n",
    "W = tf.Variable(tf.random_uniform([1, 2], -100, 100))\n",
    "# 这里b的shape是(1,)，并不是1×1，第二维是任意大小，所以才能在下面和1×100的矩阵相加\n",
    "b = tf.Variable(tf.zeros([1]))\n",
    "y = tf.matmul(W, x_data) + b\n",
    "\n",
    "# 3.定义评价指标\n",
    "# 采用方差的定义，求取平均方差\n",
    "loss = tf.reduce_mean(tf.square(y - y_data))\n",
    "\n",
    "# 4.构造运行图\n",
    "optimizer = tf.train.GradientDescentOptimizer(0.5)\n",
    "train = optimizer.minimize(loss)\n",
    "\n",
    "# 5.启动图\n",
    "init = tf.global_variables_initializer()\n",
    "sess = tf.Session()\n",
    "# 运行之前必须要先运行这行代码，进行初始化\n",
    "sess.run(init)\n",
    "\n",
    "t1 = time.time()\n",
    "\n",
    "count = 0\n",
    "while sess.run(loss) > threshold:\n",
    "    sess.run(train)\n",
    "    count += 1\n",
    "    # 注意，直接打印loss并不是它的内容，必须sess.run(loss)打印出来的才是它的数值\n",
    "    # 因为我们在建立graph的时候，只建立tensor的结构形状信息，并没有执行数据的操作\n",
    "    print(count, sess.run(loss), sess.run(W), sess.run(b))\n",
    "\n",
    "t2 = time.time()\n",
    "\n",
    "print(t2 - t1, \"seconds.\")"
   ]
  },
  {
   "cell_type": "code",
   "execution_count": 94,
   "metadata": {},
   "outputs": [
    {
     "data": {
      "text/html": [
       "<div>\n",
       "<style scoped>\n",
       "    .dataframe tbody tr th:only-of-type {\n",
       "        vertical-align: middle;\n",
       "    }\n",
       "\n",
       "    .dataframe tbody tr th {\n",
       "        vertical-align: top;\n",
       "    }\n",
       "\n",
       "    .dataframe thead th {\n",
       "        text-align: right;\n",
       "    }\n",
       "</style>\n",
       "<table border=\"1\" class=\"dataframe\">\n",
       "  <thead>\n",
       "    <tr style=\"text-align: right;\">\n",
       "      <th></th>\n",
       "      <th>create_dt</th>\n",
       "      <th>order_id</th>\n",
       "      <th>sku_id</th>\n",
       "      <th>sku_name</th>\n",
       "      <th>is_finished</th>\n",
       "      <th>sku_cnt</th>\n",
       "      <th>sku_prc</th>\n",
       "      <th>sku_sale_prc</th>\n",
       "      <th>sku_cost_prc</th>\n",
       "      <th>upc_code</th>\n",
       "    </tr>\n",
       "  </thead>\n",
       "  <tbody>\n",
       "    <tr>\n",
       "      <th>1</th>\n",
       "      <td>2016-11-30</td>\n",
       "      <td>628897900000121</td>\n",
       "      <td>2005508919</td>\n",
       "      <td>进口 香蕉 约1kg</td>\n",
       "      <td>1</td>\n",
       "      <td>1</td>\n",
       "      <td>8.8</td>\n",
       "      <td>8.8</td>\n",
       "      <td>0.0</td>\n",
       "      <td>2400002414566</td>\n",
       "    </tr>\n",
       "    <tr>\n",
       "      <th>2</th>\n",
       "      <td>2016-11-30</td>\n",
       "      <td>628897900000121</td>\n",
       "      <td>2004962651</td>\n",
       "      <td>伊利 畅轻风味发酵乳 燕麦+芒果味酸奶 250g</td>\n",
       "      <td>1</td>\n",
       "      <td>1</td>\n",
       "      <td>7.5</td>\n",
       "      <td>7.5</td>\n",
       "      <td>0.0</td>\n",
       "      <td>6907992103419</td>\n",
       "    </tr>\n",
       "    <tr>\n",
       "      <th>3</th>\n",
       "      <td>2016-11-30</td>\n",
       "      <td>628897900000121</td>\n",
       "      <td>2005468766</td>\n",
       "      <td>新希望 记忆风味发酵乳 195g</td>\n",
       "      <td>1</td>\n",
       "      <td>1</td>\n",
       "      <td>5.0</td>\n",
       "      <td>5.0</td>\n",
       "      <td>0.0</td>\n",
       "      <td>6941704407808</td>\n",
       "    </tr>\n",
       "    <tr>\n",
       "      <th>4</th>\n",
       "      <td>2016-11-30</td>\n",
       "      <td>628927740000022</td>\n",
       "      <td>2003138337</td>\n",
       "      <td>三全 猪肉香菇灌汤水饺 1kg</td>\n",
       "      <td>1</td>\n",
       "      <td>2</td>\n",
       "      <td>9.8</td>\n",
       "      <td>9.8</td>\n",
       "      <td>0.0</td>\n",
       "      <td>6908791102474</td>\n",
       "    </tr>\n",
       "    <tr>\n",
       "      <th>43321</th>\n",
       "      <td>2016-11-30</td>\n",
       "      <td>628899274000042</td>\n",
       "      <td>2005508967</td>\n",
       "      <td>香米 约1kg</td>\n",
       "      <td>1</td>\n",
       "      <td>5</td>\n",
       "      <td>5.6</td>\n",
       "      <td>5.6</td>\n",
       "      <td>0.0</td>\n",
       "      <td>2400002414658</td>\n",
       "    </tr>\n",
       "    <tr>\n",
       "      <th>43324</th>\n",
       "      <td>2016-11-30</td>\n",
       "      <td>628925736000021</td>\n",
       "      <td>2005468710</td>\n",
       "      <td>活润 益生菌 风味发酵乳 160g</td>\n",
       "      <td>1</td>\n",
       "      <td>10</td>\n",
       "      <td>2.3</td>\n",
       "      <td>2.3</td>\n",
       "      <td>0.0</td>\n",
       "      <td>6941704407358</td>\n",
       "    </tr>\n",
       "    <tr>\n",
       "      <th>86988</th>\n",
       "      <td>2016-11-30</td>\n",
       "      <td>628909397000021</td>\n",
       "      <td>2005468424</td>\n",
       "      <td>甘汁园 一级白砂糖 1kg</td>\n",
       "      <td>1</td>\n",
       "      <td>1</td>\n",
       "      <td>8.9</td>\n",
       "      <td>7.8</td>\n",
       "      <td>7.8</td>\n",
       "      <td>6928002378757</td>\n",
       "    </tr>\n",
       "    <tr>\n",
       "      <th>86989</th>\n",
       "      <td>2016-11-30</td>\n",
       "      <td>628909397000021</td>\n",
       "      <td>2005468735</td>\n",
       "      <td>Cocacola/可口可乐 零度汽水 500ml</td>\n",
       "      <td>1</td>\n",
       "      <td>1</td>\n",
       "      <td>3.0</td>\n",
       "      <td>3.0</td>\n",
       "      <td>0.0</td>\n",
       "      <td>6953392500358</td>\n",
       "    </tr>\n",
       "    <tr>\n",
       "      <th>86990</th>\n",
       "      <td>2016-11-30</td>\n",
       "      <td>628909397000021</td>\n",
       "      <td>2005468746</td>\n",
       "      <td>美年达 橙味汽水 1L</td>\n",
       "      <td>1</td>\n",
       "      <td>1</td>\n",
       "      <td>2.9</td>\n",
       "      <td>2.9</td>\n",
       "      <td>0.0</td>\n",
       "      <td>6940553380102</td>\n",
       "    </tr>\n",
       "    <tr>\n",
       "      <th>86991</th>\n",
       "      <td>2016-11-30</td>\n",
       "      <td>628909397000021</td>\n",
       "      <td>2005468739</td>\n",
       "      <td>Cocacola/可口可乐 冰露 饮用纯净水 550ml*12</td>\n",
       "      <td>1</td>\n",
       "      <td>1</td>\n",
       "      <td>6.9</td>\n",
       "      <td>6.9</td>\n",
       "      <td>0.0</td>\n",
       "      <td>6953392540750</td>\n",
       "    </tr>\n",
       "    <tr>\n",
       "      <th>86992</th>\n",
       "      <td>2016-11-30</td>\n",
       "      <td>628909397000021</td>\n",
       "      <td>2003118318</td>\n",
       "      <td>海天 上等蚝油 700g</td>\n",
       "      <td>1</td>\n",
       "      <td>1</td>\n",
       "      <td>8.8</td>\n",
       "      <td>7.8</td>\n",
       "      <td>7.8</td>\n",
       "      <td>6902265360018</td>\n",
       "    </tr>\n",
       "    <tr>\n",
       "      <th>86993</th>\n",
       "      <td>2016-11-30</td>\n",
       "      <td>628909397000021</td>\n",
       "      <td>2005468877</td>\n",
       "      <td>珍爱 湿巾 12片</td>\n",
       "      <td>1</td>\n",
       "      <td>1</td>\n",
       "      <td>1.0</td>\n",
       "      <td>1.0</td>\n",
       "      <td>0.0</td>\n",
       "      <td>6926691325410</td>\n",
       "    </tr>\n",
       "    <tr>\n",
       "      <th>86994</th>\n",
       "      <td>2016-11-30</td>\n",
       "      <td>628909397000021</td>\n",
       "      <td>2005508948</td>\n",
       "      <td>南瓜 约500g</td>\n",
       "      <td>1</td>\n",
       "      <td>1</td>\n",
       "      <td>0.8</td>\n",
       "      <td>0.8</td>\n",
       "      <td>0.0</td>\n",
       "      <td>2400002414214</td>\n",
       "    </tr>\n",
       "    <tr>\n",
       "      <th>86995</th>\n",
       "      <td>2016-11-30</td>\n",
       "      <td>628909397000021</td>\n",
       "      <td>2003118273</td>\n",
       "      <td>农夫山泉 茶π西柚茉莉花茶 500ml</td>\n",
       "      <td>1</td>\n",
       "      <td>1</td>\n",
       "      <td>4.8</td>\n",
       "      <td>4.8</td>\n",
       "      <td>0.0</td>\n",
       "      <td>6921168593552</td>\n",
       "    </tr>\n",
       "    <tr>\n",
       "      <th>86996</th>\n",
       "      <td>2016-11-30</td>\n",
       "      <td>628909397000021</td>\n",
       "      <td>2003118168</td>\n",
       "      <td>伊利 大果粒草莓桑葚风味发酵乳 260g</td>\n",
       "      <td>1</td>\n",
       "      <td>1</td>\n",
       "      <td>5.8</td>\n",
       "      <td>5.8</td>\n",
       "      <td>0.0</td>\n",
       "      <td>6907992102924</td>\n",
       "    </tr>\n",
       "    <tr>\n",
       "      <th>86997</th>\n",
       "      <td>2016-11-30</td>\n",
       "      <td>628909397000021</td>\n",
       "      <td>2005468478</td>\n",
       "      <td>康师傅 冰红茶(柠檬口味茶饮品)  250ml</td>\n",
       "      <td>1</td>\n",
       "      <td>1</td>\n",
       "      <td>1.5</td>\n",
       "      <td>1.0</td>\n",
       "      <td>1.0</td>\n",
       "      <td>6922456802387</td>\n",
       "    </tr>\n",
       "    <tr>\n",
       "      <th>86998</th>\n",
       "      <td>2016-11-30</td>\n",
       "      <td>628909397000021</td>\n",
       "      <td>2005468892</td>\n",
       "      <td>冷酸灵 极柔深洁牙刷 2支</td>\n",
       "      <td>1</td>\n",
       "      <td>1</td>\n",
       "      <td>8.8</td>\n",
       "      <td>6.8</td>\n",
       "      <td>6.8</td>\n",
       "      <td>6902132082227</td>\n",
       "    </tr>\n",
       "    <tr>\n",
       "      <th>86999</th>\n",
       "      <td>2016-11-30</td>\n",
       "      <td>628909397000021</td>\n",
       "      <td>2004859551</td>\n",
       "      <td>包装海蜇丝三合一（即食海蜇）香辣味 450g(150*3包)</td>\n",
       "      <td>1</td>\n",
       "      <td>1</td>\n",
       "      <td>12.6</td>\n",
       "      <td>9.9</td>\n",
       "      <td>9.9</td>\n",
       "      <td>6932382833508</td>\n",
       "    </tr>\n",
       "    <tr>\n",
       "      <th>87000</th>\n",
       "      <td>2016-11-30</td>\n",
       "      <td>628909397000021</td>\n",
       "      <td>2003117718</td>\n",
       "      <td>湾仔码头 鲜美纯肉云吞 600g</td>\n",
       "      <td>1</td>\n",
       "      <td>1</td>\n",
       "      <td>30.9</td>\n",
       "      <td>19.8</td>\n",
       "      <td>19.8</td>\n",
       "      <td>4891913750382</td>\n",
       "    </tr>\n",
       "    <tr>\n",
       "      <th>87001</th>\n",
       "      <td>2016-11-30</td>\n",
       "      <td>628909397000021</td>\n",
       "      <td>2005508969</td>\n",
       "      <td>小葱 约100g</td>\n",
       "      <td>1</td>\n",
       "      <td>1</td>\n",
       "      <td>1.2</td>\n",
       "      <td>1.2</td>\n",
       "      <td>0.0</td>\n",
       "      <td>2400002414368</td>\n",
       "    </tr>\n",
       "    <tr>\n",
       "      <th>87002</th>\n",
       "      <td>2016-11-30</td>\n",
       "      <td>628909397000021</td>\n",
       "      <td>2005468454</td>\n",
       "      <td>好人家 鸡精调味料 40g</td>\n",
       "      <td>1</td>\n",
       "      <td>1</td>\n",
       "      <td>2.1</td>\n",
       "      <td>1.0</td>\n",
       "      <td>1.0</td>\n",
       "      <td>6920143500752</td>\n",
       "    </tr>\n",
       "    <tr>\n",
       "      <th>87003</th>\n",
       "      <td>2016-11-30</td>\n",
       "      <td>628909397000021</td>\n",
       "      <td>2005468775</td>\n",
       "      <td>百事可乐 碳酸饮料 可乐型汽水 1L</td>\n",
       "      <td>1</td>\n",
       "      <td>2</td>\n",
       "      <td>2.9</td>\n",
       "      <td>2.9</td>\n",
       "      <td>0.0</td>\n",
       "      <td>6940553360104</td>\n",
       "    </tr>\n",
       "    <tr>\n",
       "      <th>87005</th>\n",
       "      <td>2016-11-30</td>\n",
       "      <td>628914857000021</td>\n",
       "      <td>2003138208</td>\n",
       "      <td>Great Value/惠宜 荔枝味低醇啤酒 330ml</td>\n",
       "      <td>1</td>\n",
       "      <td>2</td>\n",
       "      <td>1.5</td>\n",
       "      <td>1.5</td>\n",
       "      <td>0.0</td>\n",
       "      <td>6907777812130</td>\n",
       "    </tr>\n",
       "    <tr>\n",
       "      <th>87006</th>\n",
       "      <td>2016-11-30</td>\n",
       "      <td>628914857000021</td>\n",
       "      <td>2005468848</td>\n",
       "      <td>Great Value/惠宜 芒果味低醇啤酒 330ml</td>\n",
       "      <td>1</td>\n",
       "      <td>2</td>\n",
       "      <td>1.5</td>\n",
       "      <td>1.5</td>\n",
       "      <td>0.0</td>\n",
       "      <td>6907777812123</td>\n",
       "    </tr>\n",
       "    <tr>\n",
       "      <th>87007</th>\n",
       "      <td>2016-11-30</td>\n",
       "      <td>628914857000021</td>\n",
       "      <td>2004962828</td>\n",
       "      <td>Great Value/惠宜 菠萝味低醇啤酒 330ml</td>\n",
       "      <td>1</td>\n",
       "      <td>2</td>\n",
       "      <td>1.5</td>\n",
       "      <td>1.5</td>\n",
       "      <td>0.0</td>\n",
       "      <td>6907777801073</td>\n",
       "    </tr>\n",
       "    <tr>\n",
       "      <th>87008</th>\n",
       "      <td>2016-11-30</td>\n",
       "      <td>628914857000021</td>\n",
       "      <td>2005508915</td>\n",
       "      <td>冻鸡大胸 约500g</td>\n",
       "      <td>1</td>\n",
       "      <td>1</td>\n",
       "      <td>9.5</td>\n",
       "      <td>9.5</td>\n",
       "      <td>0.0</td>\n",
       "      <td>2400002413194</td>\n",
       "    </tr>\n",
       "    <tr>\n",
       "      <th>87009</th>\n",
       "      <td>2016-11-30</td>\n",
       "      <td>628914857000021</td>\n",
       "      <td>2003352383</td>\n",
       "      <td>包装虾仁 150g</td>\n",
       "      <td>1</td>\n",
       "      <td>1</td>\n",
       "      <td>11.8</td>\n",
       "      <td>11.8</td>\n",
       "      <td>0.0</td>\n",
       "      <td>6950327000754</td>\n",
       "    </tr>\n",
       "    <tr>\n",
       "      <th>87010</th>\n",
       "      <td>2016-11-30</td>\n",
       "      <td>628914857000021</td>\n",
       "      <td>2005468847</td>\n",
       "      <td>Great Value/惠宜 水蜜桃味低醇啤酒 330ml</td>\n",
       "      <td>1</td>\n",
       "      <td>2</td>\n",
       "      <td>1.5</td>\n",
       "      <td>1.5</td>\n",
       "      <td>0.0</td>\n",
       "      <td>6907777812147</td>\n",
       "    </tr>\n",
       "    <tr>\n",
       "      <th>87011</th>\n",
       "      <td>2016-11-30</td>\n",
       "      <td>628914857000021</td>\n",
       "      <td>2003138189</td>\n",
       "      <td>包装黑椒鸡块 500g</td>\n",
       "      <td>1</td>\n",
       "      <td>1</td>\n",
       "      <td>13.8</td>\n",
       "      <td>13.8</td>\n",
       "      <td>0.0</td>\n",
       "      <td>6936430806872</td>\n",
       "    </tr>\n",
       "    <tr>\n",
       "      <th>87012</th>\n",
       "      <td>2016-11-30</td>\n",
       "      <td>628914857000021</td>\n",
       "      <td>2004445574</td>\n",
       "      <td>包装香肘 230g</td>\n",
       "      <td>1</td>\n",
       "      <td>1</td>\n",
       "      <td>9.9</td>\n",
       "      <td>9.9</td>\n",
       "      <td>0.0</td>\n",
       "      <td>6954987801485</td>\n",
       "    </tr>\n",
       "    <tr>\n",
       "      <th>...</th>\n",
       "      <td>...</td>\n",
       "      <td>...</td>\n",
       "      <td>...</td>\n",
       "      <td>...</td>\n",
       "      <td>...</td>\n",
       "      <td>...</td>\n",
       "      <td>...</td>\n",
       "      <td>...</td>\n",
       "      <td>...</td>\n",
       "      <td>...</td>\n",
       "    </tr>\n",
       "    <tr>\n",
       "      <th>296238</th>\n",
       "      <td>2016-11-30</td>\n",
       "      <td>628913259000041</td>\n",
       "      <td>2005508921</td>\n",
       "      <td>国产蜜柑 约500g</td>\n",
       "      <td>1</td>\n",
       "      <td>1</td>\n",
       "      <td>5.5</td>\n",
       "      <td>5.5</td>\n",
       "      <td>0.0</td>\n",
       "      <td>2400002414399</td>\n",
       "    </tr>\n",
       "    <tr>\n",
       "      <th>296239</th>\n",
       "      <td>2016-11-30</td>\n",
       "      <td>628913259000041</td>\n",
       "      <td>2005468737</td>\n",
       "      <td>Cocacola/可口可乐 汽水 300ml</td>\n",
       "      <td>1</td>\n",
       "      <td>2</td>\n",
       "      <td>2.0</td>\n",
       "      <td>1.6</td>\n",
       "      <td>1.6</td>\n",
       "      <td>6953392501331</td>\n",
       "    </tr>\n",
       "    <tr>\n",
       "      <th>296240</th>\n",
       "      <td>2016-11-30</td>\n",
       "      <td>628913259000041</td>\n",
       "      <td>2005365388</td>\n",
       "      <td>圣农包装黑椒翅中 250g</td>\n",
       "      <td>1</td>\n",
       "      <td>1</td>\n",
       "      <td>15.8</td>\n",
       "      <td>15.8</td>\n",
       "      <td>0.0</td>\n",
       "      <td>6936430807831</td>\n",
       "    </tr>\n",
       "    <tr>\n",
       "      <th>296241</th>\n",
       "      <td>2016-11-30</td>\n",
       "      <td>628913259000041</td>\n",
       "      <td>2005468775</td>\n",
       "      <td>百事可乐 碳酸饮料 可乐型汽水 1L</td>\n",
       "      <td>1</td>\n",
       "      <td>1</td>\n",
       "      <td>2.9</td>\n",
       "      <td>2.9</td>\n",
       "      <td>0.0</td>\n",
       "      <td>6940553360104</td>\n",
       "    </tr>\n",
       "    <tr>\n",
       "      <th>296242</th>\n",
       "      <td>2016-11-30</td>\n",
       "      <td>628923627000121</td>\n",
       "      <td>2003118168</td>\n",
       "      <td>伊利 大果粒草莓桑葚风味发酵乳 260g</td>\n",
       "      <td>1</td>\n",
       "      <td>5</td>\n",
       "      <td>5.8</td>\n",
       "      <td>5.8</td>\n",
       "      <td>0.0</td>\n",
       "      <td>6907992102924</td>\n",
       "    </tr>\n",
       "    <tr>\n",
       "      <th>296243</th>\n",
       "      <td>2016-11-30</td>\n",
       "      <td>628923627000121</td>\n",
       "      <td>2003354568</td>\n",
       "      <td>农夫山泉 饮用天然水  4L</td>\n",
       "      <td>1</td>\n",
       "      <td>1</td>\n",
       "      <td>7.8</td>\n",
       "      <td>6.9</td>\n",
       "      <td>6.9</td>\n",
       "      <td>6921168559176</td>\n",
       "    </tr>\n",
       "    <tr>\n",
       "      <th>296244</th>\n",
       "      <td>2016-11-30</td>\n",
       "      <td>628923627000121</td>\n",
       "      <td>2003138220</td>\n",
       "      <td>思念 三鲜灌汤水饺 1kg</td>\n",
       "      <td>1</td>\n",
       "      <td>1</td>\n",
       "      <td>10.9</td>\n",
       "      <td>9.9</td>\n",
       "      <td>9.9</td>\n",
       "      <td>6921665714757</td>\n",
       "    </tr>\n",
       "    <tr>\n",
       "      <th>296245</th>\n",
       "      <td>2016-11-30</td>\n",
       "      <td>628926182000021</td>\n",
       "      <td>2005468889</td>\n",
       "      <td>飘柔 长效清爽去屑洗发露 750ml</td>\n",
       "      <td>1</td>\n",
       "      <td>1</td>\n",
       "      <td>29.8</td>\n",
       "      <td>19.8</td>\n",
       "      <td>19.8</td>\n",
       "      <td>6903148079614</td>\n",
       "    </tr>\n",
       "    <tr>\n",
       "      <th>339239</th>\n",
       "      <td>2016-11-30</td>\n",
       "      <td>628914473000042</td>\n",
       "      <td>2005468931</td>\n",
       "      <td>百世兴 原味酒鬼花生（油炸类） 100g</td>\n",
       "      <td>1</td>\n",
       "      <td>10</td>\n",
       "      <td>5.5</td>\n",
       "      <td>2.5</td>\n",
       "      <td>2.5</td>\n",
       "      <td>6942910300143</td>\n",
       "    </tr>\n",
       "    <tr>\n",
       "      <th>339240</th>\n",
       "      <td>2016-11-30</td>\n",
       "      <td>628918461000041</td>\n",
       "      <td>2005468781</td>\n",
       "      <td>香满园 特选珍珠米(东北大米) 5kg</td>\n",
       "      <td>1</td>\n",
       "      <td>2</td>\n",
       "      <td>27.8</td>\n",
       "      <td>26.8</td>\n",
       "      <td>26.8</td>\n",
       "      <td>6948195860327</td>\n",
       "    </tr>\n",
       "    <tr>\n",
       "      <th>339241</th>\n",
       "      <td>2016-11-30</td>\n",
       "      <td>628929979000022</td>\n",
       "      <td>2005468828</td>\n",
       "      <td>三全 宁波风味花生汤圆 1kg</td>\n",
       "      <td>1</td>\n",
       "      <td>1</td>\n",
       "      <td>9.5</td>\n",
       "      <td>9.5</td>\n",
       "      <td>0.0</td>\n",
       "      <td>6908791201474</td>\n",
       "    </tr>\n",
       "    <tr>\n",
       "      <th>339242</th>\n",
       "      <td>2016-11-30</td>\n",
       "      <td>628929979000022</td>\n",
       "      <td>2003621596</td>\n",
       "      <td>思念 猪肉香菇灌汤水饺 1kg</td>\n",
       "      <td>1</td>\n",
       "      <td>1</td>\n",
       "      <td>10.9</td>\n",
       "      <td>9.9</td>\n",
       "      <td>9.9</td>\n",
       "      <td>6921665714771</td>\n",
       "    </tr>\n",
       "    <tr>\n",
       "      <th>382001</th>\n",
       "      <td>2016-11-30</td>\n",
       "      <td>628895241000041</td>\n",
       "      <td>2003117790</td>\n",
       "      <td>Quaker/桂格 经典原味即食燕麦片 700g</td>\n",
       "      <td>1</td>\n",
       "      <td>1</td>\n",
       "      <td>16.8</td>\n",
       "      <td>12.8</td>\n",
       "      <td>12.8</td>\n",
       "      <td>6924743916074</td>\n",
       "    </tr>\n",
       "    <tr>\n",
       "      <th>382002</th>\n",
       "      <td>2016-11-30</td>\n",
       "      <td>628895241000041</td>\n",
       "      <td>2005468454</td>\n",
       "      <td>好人家 鸡精调味料 40g</td>\n",
       "      <td>1</td>\n",
       "      <td>1</td>\n",
       "      <td>2.1</td>\n",
       "      <td>1.0</td>\n",
       "      <td>1.0</td>\n",
       "      <td>6920143500752</td>\n",
       "    </tr>\n",
       "    <tr>\n",
       "      <th>382003</th>\n",
       "      <td>2016-11-30</td>\n",
       "      <td>628895241000041</td>\n",
       "      <td>2005468953</td>\n",
       "      <td>桥头 火锅底料 麻辣 300g</td>\n",
       "      <td>1</td>\n",
       "      <td>1</td>\n",
       "      <td>12.5</td>\n",
       "      <td>9.9</td>\n",
       "      <td>9.9</td>\n",
       "      <td>6936072100376</td>\n",
       "    </tr>\n",
       "    <tr>\n",
       "      <th>382004</th>\n",
       "      <td>2016-11-30</td>\n",
       "      <td>628898567000022</td>\n",
       "      <td>2005468722</td>\n",
       "      <td>福临门 非转基因 纯香 菜籽油 5L</td>\n",
       "      <td>1</td>\n",
       "      <td>1</td>\n",
       "      <td>49.8</td>\n",
       "      <td>43.8</td>\n",
       "      <td>43.8</td>\n",
       "      <td>6941499114332</td>\n",
       "    </tr>\n",
       "    <tr>\n",
       "      <th>382005</th>\n",
       "      <td>2016-11-30</td>\n",
       "      <td>628904776000041</td>\n",
       "      <td>2005468688</td>\n",
       "      <td>New Hope/新希望 成都老酸奶 凝固型特色风味酸牛奶 120g</td>\n",
       "      <td>1</td>\n",
       "      <td>1</td>\n",
       "      <td>2.6</td>\n",
       "      <td>2.6</td>\n",
       "      <td>0.0</td>\n",
       "      <td>6941704404098</td>\n",
       "    </tr>\n",
       "    <tr>\n",
       "      <th>382006</th>\n",
       "      <td>2016-11-30</td>\n",
       "      <td>628904776000041</td>\n",
       "      <td>2005468889</td>\n",
       "      <td>飘柔 长效清爽去屑洗发露 750ml</td>\n",
       "      <td>1</td>\n",
       "      <td>1</td>\n",
       "      <td>29.8</td>\n",
       "      <td>19.8</td>\n",
       "      <td>19.8</td>\n",
       "      <td>6903148079614</td>\n",
       "    </tr>\n",
       "    <tr>\n",
       "      <th>382007</th>\n",
       "      <td>2016-11-30</td>\n",
       "      <td>628904776000041</td>\n",
       "      <td>2005468914</td>\n",
       "      <td>海霸王 黑芝麻汤圆 500g</td>\n",
       "      <td>1</td>\n",
       "      <td>1</td>\n",
       "      <td>7.9</td>\n",
       "      <td>6.9</td>\n",
       "      <td>6.9</td>\n",
       "      <td>6919188092650</td>\n",
       "    </tr>\n",
       "    <tr>\n",
       "      <th>382008</th>\n",
       "      <td>2016-11-30</td>\n",
       "      <td>628904776000041</td>\n",
       "      <td>2003621598</td>\n",
       "      <td>思念 宁波风味花生汤圆 1kg</td>\n",
       "      <td>1</td>\n",
       "      <td>1</td>\n",
       "      <td>10.9</td>\n",
       "      <td>9.9</td>\n",
       "      <td>9.9</td>\n",
       "      <td>6921665714801</td>\n",
       "    </tr>\n",
       "    <tr>\n",
       "      <th>382009</th>\n",
       "      <td>2016-11-30</td>\n",
       "      <td>628906079000042</td>\n",
       "      <td>2005468477</td>\n",
       "      <td>百事可乐 可乐型汽水 330ml*12</td>\n",
       "      <td>1</td>\n",
       "      <td>1</td>\n",
       "      <td>15.5</td>\n",
       "      <td>12.8</td>\n",
       "      <td>12.8</td>\n",
       "      <td>6915766003872</td>\n",
       "    </tr>\n",
       "    <tr>\n",
       "      <th>382010</th>\n",
       "      <td>2016-11-30</td>\n",
       "      <td>628906079000042</td>\n",
       "      <td>2003138221</td>\n",
       "      <td>sinian/思念 猪肉白菜灌汤水饺 1kg</td>\n",
       "      <td>1</td>\n",
       "      <td>4</td>\n",
       "      <td>10.9</td>\n",
       "      <td>9.9</td>\n",
       "      <td>9.9</td>\n",
       "      <td>6921665714764</td>\n",
       "    </tr>\n",
       "    <tr>\n",
       "      <th>382011</th>\n",
       "      <td>2016-11-30</td>\n",
       "      <td>628930429000041</td>\n",
       "      <td>2005468869</td>\n",
       "      <td>大宝 SOD蜜 100ml+SOD滋养手霜60g</td>\n",
       "      <td>1</td>\n",
       "      <td>2</td>\n",
       "      <td>9.8</td>\n",
       "      <td>8.8</td>\n",
       "      <td>8.8</td>\n",
       "      <td>6920999705745</td>\n",
       "    </tr>\n",
       "    <tr>\n",
       "      <th>382012</th>\n",
       "      <td>2016-11-30</td>\n",
       "      <td>628930429000041</td>\n",
       "      <td>2005468775</td>\n",
       "      <td>百事可乐 碳酸饮料 可乐型汽水 1L</td>\n",
       "      <td>1</td>\n",
       "      <td>1</td>\n",
       "      <td>2.9</td>\n",
       "      <td>2.9</td>\n",
       "      <td>0.0</td>\n",
       "      <td>6940553360104</td>\n",
       "    </tr>\n",
       "    <tr>\n",
       "      <th>424959</th>\n",
       "      <td>2016-11-30</td>\n",
       "      <td>628909971000121</td>\n",
       "      <td>2005468900</td>\n",
       "      <td>思念 豆沙汤圆 1kg</td>\n",
       "      <td>1</td>\n",
       "      <td>1</td>\n",
       "      <td>10.9</td>\n",
       "      <td>9.9</td>\n",
       "      <td>9.9</td>\n",
       "      <td>6921665714818</td>\n",
       "    </tr>\n",
       "    <tr>\n",
       "      <th>424960</th>\n",
       "      <td>2016-11-30</td>\n",
       "      <td>628909971000121</td>\n",
       "      <td>2003621598</td>\n",
       "      <td>思念 宁波风味花生汤圆 1kg</td>\n",
       "      <td>1</td>\n",
       "      <td>1</td>\n",
       "      <td>10.9</td>\n",
       "      <td>9.9</td>\n",
       "      <td>9.9</td>\n",
       "      <td>6921665714801</td>\n",
       "    </tr>\n",
       "    <tr>\n",
       "      <th>467557</th>\n",
       "      <td>2016-11-30</td>\n",
       "      <td>628918506000021</td>\n",
       "      <td>2005468931</td>\n",
       "      <td>百世兴 原味酒鬼花生（油炸类） 100g</td>\n",
       "      <td>1</td>\n",
       "      <td>10</td>\n",
       "      <td>5.5</td>\n",
       "      <td>2.5</td>\n",
       "      <td>2.5</td>\n",
       "      <td>6942910300143</td>\n",
       "    </tr>\n",
       "    <tr>\n",
       "      <th>510876</th>\n",
       "      <td>2016-11-30</td>\n",
       "      <td>628921920000041</td>\n",
       "      <td>2005508919</td>\n",
       "      <td>进口 香蕉 约1kg</td>\n",
       "      <td>1</td>\n",
       "      <td>2</td>\n",
       "      <td>8.8</td>\n",
       "      <td>8.8</td>\n",
       "      <td>0.0</td>\n",
       "      <td>2400002414566</td>\n",
       "    </tr>\n",
       "    <tr>\n",
       "      <th>510877</th>\n",
       "      <td>2016-11-30</td>\n",
       "      <td>628921920000041</td>\n",
       "      <td>2003137996</td>\n",
       "      <td>包装无水蛋糕 1盒 约300g</td>\n",
       "      <td>1</td>\n",
       "      <td>1</td>\n",
       "      <td>5.0</td>\n",
       "      <td>5.0</td>\n",
       "      <td>0.0</td>\n",
       "      <td>2123772000004</td>\n",
       "    </tr>\n",
       "    <tr>\n",
       "      <th>510878</th>\n",
       "      <td>2016-11-30</td>\n",
       "      <td>628921920000041</td>\n",
       "      <td>2005468442</td>\n",
       "      <td>菊乐 每日原动 原味酸奶 160g</td>\n",
       "      <td>1</td>\n",
       "      <td>4</td>\n",
       "      <td>2.0</td>\n",
       "      <td>1.8</td>\n",
       "      <td>1.8</td>\n",
       "      <td>6903979800463</td>\n",
       "    </tr>\n",
       "  </tbody>\n",
       "</table>\n",
       "<p>235 rows × 10 columns</p>\n",
       "</div>"
      ],
      "text/plain": [
       "        create_dt         order_id      sku_id  \\\n",
       "1      2016-11-30  628897900000121  2005508919   \n",
       "2      2016-11-30  628897900000121  2004962651   \n",
       "3      2016-11-30  628897900000121  2005468766   \n",
       "4      2016-11-30  628927740000022  2003138337   \n",
       "43321  2016-11-30  628899274000042  2005508967   \n",
       "43324  2016-11-30  628925736000021  2005468710   \n",
       "86988  2016-11-30  628909397000021  2005468424   \n",
       "86989  2016-11-30  628909397000021  2005468735   \n",
       "86990  2016-11-30  628909397000021  2005468746   \n",
       "86991  2016-11-30  628909397000021  2005468739   \n",
       "86992  2016-11-30  628909397000021  2003118318   \n",
       "86993  2016-11-30  628909397000021  2005468877   \n",
       "86994  2016-11-30  628909397000021  2005508948   \n",
       "86995  2016-11-30  628909397000021  2003118273   \n",
       "86996  2016-11-30  628909397000021  2003118168   \n",
       "86997  2016-11-30  628909397000021  2005468478   \n",
       "86998  2016-11-30  628909397000021  2005468892   \n",
       "86999  2016-11-30  628909397000021  2004859551   \n",
       "87000  2016-11-30  628909397000021  2003117718   \n",
       "87001  2016-11-30  628909397000021  2005508969   \n",
       "87002  2016-11-30  628909397000021  2005468454   \n",
       "87003  2016-11-30  628909397000021  2005468775   \n",
       "87005  2016-11-30  628914857000021  2003138208   \n",
       "87006  2016-11-30  628914857000021  2005468848   \n",
       "87007  2016-11-30  628914857000021  2004962828   \n",
       "87008  2016-11-30  628914857000021  2005508915   \n",
       "87009  2016-11-30  628914857000021  2003352383   \n",
       "87010  2016-11-30  628914857000021  2005468847   \n",
       "87011  2016-11-30  628914857000021  2003138189   \n",
       "87012  2016-11-30  628914857000021  2004445574   \n",
       "...           ...              ...         ...   \n",
       "296238 2016-11-30  628913259000041  2005508921   \n",
       "296239 2016-11-30  628913259000041  2005468737   \n",
       "296240 2016-11-30  628913259000041  2005365388   \n",
       "296241 2016-11-30  628913259000041  2005468775   \n",
       "296242 2016-11-30  628923627000121  2003118168   \n",
       "296243 2016-11-30  628923627000121  2003354568   \n",
       "296244 2016-11-30  628923627000121  2003138220   \n",
       "296245 2016-11-30  628926182000021  2005468889   \n",
       "339239 2016-11-30  628914473000042  2005468931   \n",
       "339240 2016-11-30  628918461000041  2005468781   \n",
       "339241 2016-11-30  628929979000022  2005468828   \n",
       "339242 2016-11-30  628929979000022  2003621596   \n",
       "382001 2016-11-30  628895241000041  2003117790   \n",
       "382002 2016-11-30  628895241000041  2005468454   \n",
       "382003 2016-11-30  628895241000041  2005468953   \n",
       "382004 2016-11-30  628898567000022  2005468722   \n",
       "382005 2016-11-30  628904776000041  2005468688   \n",
       "382006 2016-11-30  628904776000041  2005468889   \n",
       "382007 2016-11-30  628904776000041  2005468914   \n",
       "382008 2016-11-30  628904776000041  2003621598   \n",
       "382009 2016-11-30  628906079000042  2005468477   \n",
       "382010 2016-11-30  628906079000042  2003138221   \n",
       "382011 2016-11-30  628930429000041  2005468869   \n",
       "382012 2016-11-30  628930429000041  2005468775   \n",
       "424959 2016-11-30  628909971000121  2005468900   \n",
       "424960 2016-11-30  628909971000121  2003621598   \n",
       "467557 2016-11-30  628918506000021  2005468931   \n",
       "510876 2016-11-30  628921920000041  2005508919   \n",
       "510877 2016-11-30  628921920000041  2003137996   \n",
       "510878 2016-11-30  628921920000041  2005468442   \n",
       "\n",
       "                                  sku_name  is_finished  sku_cnt  sku_prc  \\\n",
       "1                               进口 香蕉 约1kg            1        1      8.8   \n",
       "2                 伊利 畅轻风味发酵乳 燕麦+芒果味酸奶 250g            1        1      7.5   \n",
       "3                         新希望 记忆风味发酵乳 195g            1        1      5.0   \n",
       "4                          三全 猪肉香菇灌汤水饺 1kg            1        2      9.8   \n",
       "43321                              香米 约1kg            1        5      5.6   \n",
       "43324                    活润 益生菌 风味发酵乳 160g            1       10      2.3   \n",
       "86988                        甘汁园 一级白砂糖 1kg            1        1      8.9   \n",
       "86989             Cocacola/可口可乐 零度汽水 500ml            1        1      3.0   \n",
       "86990                          美年达 橙味汽水 1L            1        1      2.9   \n",
       "86991      Cocacola/可口可乐 冰露 饮用纯净水 550ml*12            1        1      6.9   \n",
       "86992                         海天 上等蚝油 700g            1        1      8.8   \n",
       "86993                            珍爱 湿巾 12片            1        1      1.0   \n",
       "86994                             南瓜 约500g            1        1      0.8   \n",
       "86995                  农夫山泉 茶π西柚茉莉花茶 500ml            1        1      4.8   \n",
       "86996                 伊利 大果粒草莓桑葚风味发酵乳 260g            1        1      5.8   \n",
       "86997              康师傅 冰红茶(柠檬口味茶饮品)  250ml            1        1      1.5   \n",
       "86998                        冷酸灵 极柔深洁牙刷 2支            1        1      8.8   \n",
       "86999       包装海蜇丝三合一（即食海蜇）香辣味 450g(150*3包)            1        1     12.6   \n",
       "87000                     湾仔码头 鲜美纯肉云吞 600g            1        1     30.9   \n",
       "87001                             小葱 约100g            1        1      1.2   \n",
       "87002                        好人家 鸡精调味料 40g            1        1      2.1   \n",
       "87003                   百事可乐 碳酸饮料 可乐型汽水 1L            1        2      2.9   \n",
       "87005         Great Value/惠宜 荔枝味低醇啤酒 330ml            1        2      1.5   \n",
       "87006         Great Value/惠宜 芒果味低醇啤酒 330ml            1        2      1.5   \n",
       "87007         Great Value/惠宜 菠萝味低醇啤酒 330ml            1        2      1.5   \n",
       "87008                           冻鸡大胸 约500g            1        1      9.5   \n",
       "87009                            包装虾仁 150g            1        1     11.8   \n",
       "87010        Great Value/惠宜 水蜜桃味低醇啤酒 330ml            1        2      1.5   \n",
       "87011                          包装黑椒鸡块 500g            1        1     13.8   \n",
       "87012                            包装香肘 230g            1        1      9.9   \n",
       "...                                    ...          ...      ...      ...   \n",
       "296238                          国产蜜柑 约500g            1        1      5.5   \n",
       "296239              Cocacola/可口可乐 汽水 300ml            1        2      2.0   \n",
       "296240                       圣农包装黑椒翅中 250g            1        1     15.8   \n",
       "296241                  百事可乐 碳酸饮料 可乐型汽水 1L            1        1      2.9   \n",
       "296242                伊利 大果粒草莓桑葚风味发酵乳 260g            1        5      5.8   \n",
       "296243                      农夫山泉 饮用天然水  4L            1        1      7.8   \n",
       "296244                       思念 三鲜灌汤水饺 1kg            1        1     10.9   \n",
       "296245                  飘柔 长效清爽去屑洗发露 750ml            1        1     29.8   \n",
       "339239                百世兴 原味酒鬼花生（油炸类） 100g            1       10      5.5   \n",
       "339240                 香满园 特选珍珠米(东北大米) 5kg            1        2     27.8   \n",
       "339241                     三全 宁波风味花生汤圆 1kg            1        1      9.5   \n",
       "339242                     思念 猪肉香菇灌汤水饺 1kg            1        1     10.9   \n",
       "382001            Quaker/桂格 经典原味即食燕麦片 700g            1        1     16.8   \n",
       "382002                       好人家 鸡精调味料 40g            1        1      2.1   \n",
       "382003                     桥头 火锅底料 麻辣 300g            1        1     12.5   \n",
       "382004                  福临门 非转基因 纯香 菜籽油 5L            1        1     49.8   \n",
       "382005  New Hope/新希望 成都老酸奶 凝固型特色风味酸牛奶 120g            1        1      2.6   \n",
       "382006                  飘柔 长效清爽去屑洗发露 750ml            1        1     29.8   \n",
       "382007                      海霸王 黑芝麻汤圆 500g            1        1      7.9   \n",
       "382008                     思念 宁波风味花生汤圆 1kg            1        1     10.9   \n",
       "382009                 百事可乐 可乐型汽水 330ml*12            1        1     15.5   \n",
       "382010              sinian/思念 猪肉白菜灌汤水饺 1kg            1        4     10.9   \n",
       "382011            大宝 SOD蜜 100ml+SOD滋养手霜60g            1        2      9.8   \n",
       "382012                  百事可乐 碳酸饮料 可乐型汽水 1L            1        1      2.9   \n",
       "424959                         思念 豆沙汤圆 1kg            1        1     10.9   \n",
       "424960                     思念 宁波风味花生汤圆 1kg            1        1     10.9   \n",
       "467557                百世兴 原味酒鬼花生（油炸类） 100g            1       10      5.5   \n",
       "510876                          进口 香蕉 约1kg            1        2      8.8   \n",
       "510877                     包装无水蛋糕 1盒 约300g            1        1      5.0   \n",
       "510878                   菊乐 每日原动 原味酸奶 160g            1        4      2.0   \n",
       "\n",
       "        sku_sale_prc  sku_cost_prc       upc_code  \n",
       "1                8.8           0.0  2400002414566  \n",
       "2                7.5           0.0  6907992103419  \n",
       "3                5.0           0.0  6941704407808  \n",
       "4                9.8           0.0  6908791102474  \n",
       "43321            5.6           0.0  2400002414658  \n",
       "43324            2.3           0.0  6941704407358  \n",
       "86988            7.8           7.8  6928002378757  \n",
       "86989            3.0           0.0  6953392500358  \n",
       "86990            2.9           0.0  6940553380102  \n",
       "86991            6.9           0.0  6953392540750  \n",
       "86992            7.8           7.8  6902265360018  \n",
       "86993            1.0           0.0  6926691325410  \n",
       "86994            0.8           0.0  2400002414214  \n",
       "86995            4.8           0.0  6921168593552  \n",
       "86996            5.8           0.0  6907992102924  \n",
       "86997            1.0           1.0  6922456802387  \n",
       "86998            6.8           6.8  6902132082227  \n",
       "86999            9.9           9.9  6932382833508  \n",
       "87000           19.8          19.8  4891913750382  \n",
       "87001            1.2           0.0  2400002414368  \n",
       "87002            1.0           1.0  6920143500752  \n",
       "87003            2.9           0.0  6940553360104  \n",
       "87005            1.5           0.0  6907777812130  \n",
       "87006            1.5           0.0  6907777812123  \n",
       "87007            1.5           0.0  6907777801073  \n",
       "87008            9.5           0.0  2400002413194  \n",
       "87009           11.8           0.0  6950327000754  \n",
       "87010            1.5           0.0  6907777812147  \n",
       "87011           13.8           0.0  6936430806872  \n",
       "87012            9.9           0.0  6954987801485  \n",
       "...              ...           ...            ...  \n",
       "296238           5.5           0.0  2400002414399  \n",
       "296239           1.6           1.6  6953392501331  \n",
       "296240          15.8           0.0  6936430807831  \n",
       "296241           2.9           0.0  6940553360104  \n",
       "296242           5.8           0.0  6907992102924  \n",
       "296243           6.9           6.9  6921168559176  \n",
       "296244           9.9           9.9  6921665714757  \n",
       "296245          19.8          19.8  6903148079614  \n",
       "339239           2.5           2.5  6942910300143  \n",
       "339240          26.8          26.8  6948195860327  \n",
       "339241           9.5           0.0  6908791201474  \n",
       "339242           9.9           9.9  6921665714771  \n",
       "382001          12.8          12.8  6924743916074  \n",
       "382002           1.0           1.0  6920143500752  \n",
       "382003           9.9           9.9  6936072100376  \n",
       "382004          43.8          43.8  6941499114332  \n",
       "382005           2.6           0.0  6941704404098  \n",
       "382006          19.8          19.8  6903148079614  \n",
       "382007           6.9           6.9  6919188092650  \n",
       "382008           9.9           9.9  6921665714801  \n",
       "382009          12.8          12.8  6915766003872  \n",
       "382010           9.9           9.9  6921665714764  \n",
       "382011           8.8           8.8  6920999705745  \n",
       "382012           2.9           0.0  6940553360104  \n",
       "424959           9.9           9.9  6921665714818  \n",
       "424960           9.9           9.9  6921665714801  \n",
       "467557           2.5           2.5  6942910300143  \n",
       "510876           8.8           0.0  2400002414566  \n",
       "510877           5.0           0.0  2123772000004  \n",
       "510878           1.8           1.8  6903979800463  \n",
       "\n",
       "[235 rows x 10 columns]"
      ]
     },
     "execution_count": 94,
     "metadata": {},
     "output_type": "execute_result"
    }
   ],
   "source": [
    "sheet_1[sheet_1['create_dt']==np.datetime64('2016-11-30')]"
   ]
  },
  {
   "cell_type": "code",
   "execution_count": 95,
   "metadata": {},
   "outputs": [
    {
     "data": {
      "text/html": [
       "<div>\n",
       "<style scoped>\n",
       "    .dataframe tbody tr th:only-of-type {\n",
       "        vertical-align: middle;\n",
       "    }\n",
       "\n",
       "    .dataframe tbody tr th {\n",
       "        vertical-align: top;\n",
       "    }\n",
       "\n",
       "    .dataframe thead th {\n",
       "        text-align: right;\n",
       "    }\n",
       "</style>\n",
       "<table border=\"1\" class=\"dataframe\">\n",
       "  <thead>\n",
       "    <tr style=\"text-align: right;\">\n",
       "      <th></th>\n",
       "      <th>create_dt</th>\n",
       "      <th>order_id</th>\n",
       "      <th>sku_id</th>\n",
       "      <th>sku_name</th>\n",
       "      <th>is_finished</th>\n",
       "      <th>sku_cnt</th>\n",
       "      <th>sku_prc</th>\n",
       "      <th>sku_sale_prc</th>\n",
       "      <th>sku_cost_prc</th>\n",
       "      <th>upc_code</th>\n",
       "    </tr>\n",
       "  </thead>\n",
       "  <tbody>\n",
       "  </tbody>\n",
       "</table>\n",
       "</div>"
      ],
      "text/plain": [
       "Empty DataFrame\n",
       "Columns: [create_dt, order_id, sku_id, sku_name, is_finished, sku_cnt, sku_prc, sku_sale_prc, sku_cost_prc, upc_code]\n",
       "Index: []"
      ]
     },
     "execution_count": 95,
     "metadata": {},
     "output_type": "execute_result"
    }
   ],
   "source": [
    "sheet_1[sheet_1['create_dt']==np.datetime64('2018-12-24')]"
   ]
  },
  {
   "cell_type": "code",
   "execution_count": null,
   "metadata": {},
   "outputs": [],
   "source": []
  }
 ],
 "metadata": {
  "kernelspec": {
   "display_name": "Python 3",
   "language": "python",
   "name": "python3"
  },
  "language_info": {
   "codemirror_mode": {
    "name": "ipython",
    "version": 3
   },
   "file_extension": ".py",
   "mimetype": "text/x-python",
   "name": "python",
   "nbconvert_exporter": "python",
   "pygments_lexer": "ipython3",
   "version": "3.6.4"
  }
 },
 "nbformat": 4,
 "nbformat_minor": 2
}
